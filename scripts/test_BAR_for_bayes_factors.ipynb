{
 "cells": [
  {
   "cell_type": "code",
   "execution_count": 9,
   "metadata": {},
   "outputs": [],
   "source": [
    "import numpy as np\n",
    "import pymc3 as pm"
   ]
  },
  {
   "cell_type": "markdown",
   "metadata": {},
   "source": [
    "# Data Generation"
   ]
  },
  {
   "cell_type": "code",
   "execution_count": 2,
   "metadata": {},
   "outputs": [],
   "source": [
    "def generate_X1(size=100, random_state=123):\n",
    "    rand = np.random.RandomState(random_state)\n",
    "    mu = rand.normal(loc=10, scale=3, size=size)\n",
    "    x1 = [rand.normal(loc=m, scale=4) for m in mu]\n",
    "    return np.array(x1)\n",
    "\n",
    "\n",
    "def generate_X2(size=100, random_state=123):\n",
    "    rand = np.random.RandomState(random_state)\n",
    "    mu = rand.normal(loc=10, scale=3, size=size)\n",
    "    sigma = rand.uniform(2, 6, size=size)\n",
    "    x2 = [rand.normal(loc=m, scale=s) for m, s in zip(mu, sigma)]\n",
    "    return np.array(x2)"
   ]
  },
  {
   "cell_type": "code",
   "execution_count": 3,
   "metadata": {},
   "outputs": [],
   "source": [
    "x1 = generate_X1()\n",
    "x2 = generate_X2()"
   ]
  },
  {
   "cell_type": "markdown",
   "metadata": {},
   "source": [
    "# Model 1"
   ]
  }
 ],
 "metadata": {
  "kernelspec": {
   "display_name": "Python 3",
   "language": "python",
   "name": "python3"
  },
  "language_info": {
   "codemirror_mode": {
    "name": "ipython",
    "version": 3
   },
   "file_extension": ".py",
   "mimetype": "text/x-python",
   "name": "python",
   "nbconvert_exporter": "python",
   "pygments_lexer": "ipython3",
   "version": "3.7.3"
  }
 },
 "nbformat": 4,
 "nbformat_minor": 2
}
