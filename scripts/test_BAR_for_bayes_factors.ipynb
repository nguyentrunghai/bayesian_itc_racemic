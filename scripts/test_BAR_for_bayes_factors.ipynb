{
 "cells": [
  {
   "cell_type": "code",
   "execution_count": null,
   "metadata": {},
   "outputs": [],
   "source": [
    "import numpy as np\n",
    "import pymc3 as pm\n",
    "import theano.tensor as tt\n",
    "\n",
    "import matplotlib.pyplot as plt\n",
    "%matplotlib inline\n",
    "import seaborn as sns\n",
    "sns.set()"
   ]
  },
  {
   "cell_type": "code",
   "execution_count": null,
   "metadata": {},
   "outputs": [],
   "source": [
    "SEED = 428\n",
    "SIZE = 100\n",
    "\n",
    "SMC_STEPS = 10000\n",
    "MET_STEPS = 10000"
   ]
  },
  {
   "cell_type": "markdown",
   "metadata": {},
   "source": [
    "# Data Generation"
   ]
  },
  {
   "cell_type": "code",
   "execution_count": null,
   "metadata": {},
   "outputs": [],
   "source": [
    "def gaussian_mixture(mu1=0, sigma1=1,\n",
    "                     mu2=5, sigma2=2,\n",
    "                     rho=0.5,\n",
    "                     size=100, random_state=None):\n",
    "    rnd = np.random.RandomState(random_state)\n",
    "    x = []\n",
    "    for _ in range(size):\n",
    "        if rnd.rand() < rho:\n",
    "            x.append(rnd.normal(loc=mu1, scale=sigma1))\n",
    "        else:\n",
    "            x.append(rnd.normal(loc=mu2, scale=sigma2))\n",
    "    return np.array(x)"
   ]
  },
  {
   "cell_type": "code",
   "execution_count": null,
   "metadata": {},
   "outputs": [],
   "source": [
    "x = gaussian_mixture(rho=0.5, size=SIZE, random_state=SEED)\n",
    "sns.distplot(x)"
   ]
  },
  {
   "cell_type": "markdown",
   "metadata": {},
   "source": [
    "# Models"
   ]
  },
  {
   "cell_type": "markdown",
   "metadata": {},
   "source": [
    "## Model 1\n",
    "Fit to one Gaussian"
   ]
  },
  {
   "cell_type": "code",
   "execution_count": null,
   "metadata": {},
   "outputs": [],
   "source": [
    "with pm.Model() as model_1:\n",
    "    mu = pm.Uniform(\"mu\", lower=-10, upper=10)\n",
    "    sigma = pm.Uniform(\"sigma\", lower=0, upper=5)\n",
    "    \n",
    "    obs = pm.Normal(\"obs\", mu=mu, sigma=sigma, observed=x)\n",
    "\n",
    "print(model_1.basic_RVs)"
   ]
  },
  {
   "cell_type": "markdown",
   "metadata": {},
   "source": [
    "## Model 2\n",
    "Two Gaussians with separate mu and sigma. Fix rho at 0.5."
   ]
  },
  {
   "cell_type": "code",
   "execution_count": null,
   "metadata": {},
   "outputs": [],
   "source": [
    "with pm.Model() as model_2:\n",
    "    w = pm.floatX([.5, .5])\n",
    "    mu1 = pm.Uniform(\"mu1\", lower=-10, upper=10)\n",
    "    dmu = pm.Uniform(\"dmu\", lower=0, upper=10)\n",
    "    sigma1 = pm.Uniform(\"sigma1\", lower=0, upper=5)\n",
    "    sigma2 = pm.Uniform(\"sigma2\", lower=0, upper=5)\n",
    "    \n",
    "    means = tt.zeros([2])\n",
    "    means = tt.set_subtensor(means[0], mu1)\n",
    "    means = tt.set_subtensor(means[1], mu1 + dmu)\n",
    "    \n",
    "    sigmas = tt.zeros([2])\n",
    "    sigmas = tt.set_subtensor(sigmas[0], sigma1)\n",
    "    sigmas = tt.set_subtensor(sigmas[1], sigma2)\n",
    "    \n",
    "    obs = pm.NormalMixture(\"obs\", w=w, mu=means, sigma=sigmas, observed=x)\n",
    "\n",
    "print(model_2.basic_RVs)"
   ]
  },
  {
   "cell_type": "markdown",
   "metadata": {},
   "source": [
    "## Model 3\n",
    "Use separate `mu` and `sigma` for both Gaussians. rho uniformly distributed [0, 1]."
   ]
  },
  {
   "cell_type": "code",
   "execution_count": null,
   "metadata": {},
   "outputs": [],
   "source": [
    "with pm.Model() as model_3:\n",
    "    rho = pm.Uniform(\"rho\", lower=0, upper=1)\n",
    "    \n",
    "    mu1 = pm.Uniform(\"mu1\", lower=-10, upper=10)\n",
    "    dmu = pm.Uniform(\"dmu\", lower=0, upper=10)\n",
    "    \n",
    "    sigma1 = pm.Uniform(\"sigma1\", lower=0, upper=5)\n",
    "    sigma2 = pm.Uniform(\"sigma2\", lower=0, upper=5)\n",
    "    \n",
    "    w = tt.zeros([2])\n",
    "    w = tt.set_subtensor(w[0], rho)\n",
    "    w = tt.set_subtensor(w[1], 1 - rho)\n",
    "    \n",
    "    means = tt.zeros([2])\n",
    "    means = tt.set_subtensor(means[0], mu1)\n",
    "    means = tt.set_subtensor(means[1], mu1 + dmu)\n",
    "    \n",
    "    sigmas = tt.zeros([2])\n",
    "    sigmas = tt.set_subtensor(sigmas[0], sigma1)\n",
    "    sigmas = tt.set_subtensor(sigmas[1], sigma2)\n",
    "    \n",
    "    obs = pm.NormalMixture(\"obs\", w=w, mu=means, sigma=sigmas, observed=x)\n",
    "\n",
    "print(model_3.basic_RVs)"
   ]
  },
  {
   "cell_type": "markdown",
   "metadata": {},
   "source": [
    "# Calculation of Bayes factors using sequential MC"
   ]
  },
  {
   "cell_type": "markdown",
   "metadata": {},
   "source": [
    "## Marginal likelihood"
   ]
  },
  {
   "cell_type": "code",
   "execution_count": null,
   "metadata": {},
   "outputs": [],
   "source": [
    "with model_1:\n",
    "    tr_smc_m1 = pm.sample(SMC_STEPS, step=pm.SMC(), random_seed=SEED)\n",
    "    \n",
    "mllh_m1 = model_1.marginal_likelihood\n",
    "pm.traceplot(tr_smc_m1[::10])"
   ]
  },
  {
   "cell_type": "code",
   "execution_count": null,
   "metadata": {},
   "outputs": [],
   "source": [
    "with model_2:\n",
    "    tr_smc_m2 = pm.sample(SMC_STEPS, step=pm.SMC(), random_seed=SEED)\n",
    "    \n",
    "mllh_m2 = model_2.marginal_likelihood\n",
    "pm.traceplot(tr_smc_m2[::10])"
   ]
  },
  {
   "cell_type": "code",
   "execution_count": null,
   "metadata": {},
   "outputs": [],
   "source": [
    "with model_3:\n",
    "    tr_smc_m3 = pm.sample(SMC_STEPS, step=pm.SMC(), random_seed=SEED)\n",
    "    \n",
    "mllh_m3 = model_3.marginal_likelihood\n",
    "pm.traceplot(tr_smc_m3[::10])"
   ]
  },
  {
   "cell_type": "code",
   "execution_count": null,
   "metadata": {},
   "outputs": [],
   "source": [
    "print(\"Log10 Marginal likelihood of model_1: %0.5f\" % np.log10(mllh_m1))\n",
    "print(\"Log10 Marginal likelihood of model_2: %0.5f\" % np.log10(mllh_m2))\n",
    "print(\"Log10 Marginal likelihood of model_3: %0.5f\" % np.log10(mllh_m3))"
   ]
  },
  {
   "cell_type": "markdown",
   "metadata": {},
   "source": [
    "## Bayes factors"
   ]
  },
  {
   "cell_type": "code",
   "execution_count": null,
   "metadata": {},
   "outputs": [],
   "source": [
    "print(\"Log10 Bayes factor, model_m2 over model_m1: %0.5f\" %(np.log10(mllh_m2) - np.log10(mllh_m1)))\n",
    "print(\"Log10 Bayes factor, model_m3 over model_m1: %0.5f\" %(np.log10(mllh_m3) - np.log10(mllh_m1)))\n",
    "print(\"Log10 Bayes factor, model_m3 over model_m2: %0.5f\" %(np.log10(mllh_m3) - np.log10(mllh_m2)))"
   ]
  }
 ],
 "metadata": {
  "kernelspec": {
   "display_name": "Python 3",
   "language": "python",
   "name": "python3"
  },
  "language_info": {
   "codemirror_mode": {
    "name": "ipython",
    "version": 3
   },
   "file_extension": ".py",
   "mimetype": "text/x-python",
   "name": "python",
   "nbconvert_exporter": "python",
   "pygments_lexer": "ipython3",
   "version": "3.7.3"
  }
 },
 "nbformat": 4,
 "nbformat_minor": 2
}
