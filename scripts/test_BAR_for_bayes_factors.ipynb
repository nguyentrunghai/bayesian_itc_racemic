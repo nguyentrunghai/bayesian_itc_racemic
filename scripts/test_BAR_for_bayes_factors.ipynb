{
 "cells": [
  {
   "cell_type": "code",
   "execution_count": 9,
   "metadata": {},
   "outputs": [],
   "source": [
    "import numpy as np\n",
    "import pymc3 as pm"
   ]
  },
  {
   "cell_type": "markdown",
   "metadata": {},
   "source": [
    "# Data Generation"
   ]
  },
  {
   "cell_type": "code",
   "execution_count": 2,
   "metadata": {},
   "outputs": [],
   "source": [
    "def generate_X1(size=100, random_state=123):\n",
    "    rand = np.random.RandomState(random_state)\n",
    "    mu = rand.normal(loc=10, scale=3, size=size)\n",
    "    x1 = [rand.normal(loc=m, scale=4) for m in mu]\n",
    "    return np.array(x1)\n",
    "\n",
    "\n",
    "def generate_X2(size=100, random_state=123):\n",
    "    rand = np.random.RandomState(random_state)\n",
    "    mu = rand.normal(loc=10, scale=3, size=size)\n",
    "    sigma = rand.uniform(2, 6, size=size)\n",
    "    x2 = [rand.normal(loc=m, scale=s) for m, s in zip(mu, sigma)]\n",
    "    return np.array(x2)"
   ]
  },
  {
   "cell_type": "code",
   "execution_count": 3,
   "metadata": {},
   "outputs": [],
   "source": [
    "x1 = generate_X1()\n",
    "x2 = generate_X2()"
   ]
  },
  {
   "cell_type": "markdown",
   "metadata": {},
   "source": [
    "# Models"
   ]
  },
  {
   "cell_type": "markdown",
   "metadata": {},
   "source": [
    "## Model 1"
   ]
  },
  {
   "cell_type": "code",
   "execution_count": 11,
   "metadata": {},
   "outputs": [],
   "source": [
    "with pm.Model() as model_x1_m1:\n",
    "    mu = pm.Uniform('mu', lower=0, upper=20)\n",
    "    obs = pm.Normal('obs', mu=mu, sigma=5, observed=x1)\n",
    "\n",
    "\n",
    "with pm.Model() as model_x2_m1:\n",
    "    mu = pm.Uniform('mu', lower=0, upper=20)\n",
    "    obs = pm.Normal('obs', mu=mu, sigma=5, observed=x2)"
   ]
  },
  {
   "cell_type": "markdown",
   "metadata": {},
   "source": [
    "## Model 2"
   ]
  },
  {
   "cell_type": "code",
   "execution_count": 16,
   "metadata": {},
   "outputs": [],
   "source": [
    "with pm.Model() as model_x1_m2:\n",
    "    mu = pm.Uniform('mu', lower=0, upper=20)\n",
    "    sigma = pm.Uniform('sigma', lower=1, upper=10)\n",
    "    obs = pm.Normal('obs', mu=mu, sigma=sigma, observed=x1)\n",
    "    \n",
    "with pm.Model() as model_x2_m2:\n",
    "    mu = pm.Uniform('mu', lower=0, upper=20)\n",
    "    sigma = pm.Uniform('sigma', lower=1, upper=10)\n",
    "    obs = pm.Normal('obs', mu=mu, sigma=sigma, observed=x2)"
   ]
  },
  {
   "cell_type": "markdown",
   "metadata": {},
   "source": [
    "# Calculation of Bayes factors using sequential MC"
   ]
  },
  {
   "cell_type": "code",
   "execution_count": null,
   "metadata": {},
   "outputs": [],
   "source": []
  }
 ],
 "metadata": {
  "kernelspec": {
   "display_name": "Python 3",
   "language": "python",
   "name": "python3"
  },
  "language_info": {
   "codemirror_mode": {
    "name": "ipython",
    "version": 3
   },
   "file_extension": ".py",
   "mimetype": "text/x-python",
   "name": "python",
   "nbconvert_exporter": "python",
   "pygments_lexer": "ipython3",
   "version": "3.7.3"
  }
 },
 "nbformat": 4,
 "nbformat_minor": 2
}
