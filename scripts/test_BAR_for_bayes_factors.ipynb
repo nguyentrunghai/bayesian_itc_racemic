{
 "cells": [
  {
   "cell_type": "code",
   "execution_count": 1,
   "metadata": {},
   "outputs": [],
   "source": [
    "import numpy as np\n",
    "import pymc3 as pm\n",
    "\n",
    "import matplotlib.pyplot as plt\n",
    "%matplotlib inline\n",
    "import seaborn as sns\n",
    "sns.set()"
   ]
  },
  {
   "cell_type": "code",
   "execution_count": null,
   "metadata": {},
   "outputs": [],
   "source": [
    "SMC_STEPS = 10000\n",
    "MET_STEPS = 10000\n",
    "SEED = 428"
   ]
  },
  {
   "cell_type": "markdown",
   "metadata": {},
   "source": [
    "# Data Generation"
   ]
  },
  {
   "cell_type": "code",
   "execution_count": null,
   "metadata": {},
   "outputs": [],
   "source": [
    "def generate_X1(size=100, random_state=SEED):\n",
    "    rand = np.random.RandomState(random_state)\n",
    "    mu = rand.normal(loc=0, scale=2, size=size)\n",
    "    x1 = [rand.normal(loc=m, scale=5) for m in mu]\n",
    "    return np.array(x1)\n",
    "\n",
    "\n",
    "def generate_X2(size=100, random_state=SEED):\n",
    "    rand = np.random.RandomState(random_state)\n",
    "    mu = rand.normal(loc=0, scale=2, size=size)\n",
    "    sigma = rand.normal(loc=5, scale=1, size=size)\n",
    "    x2 = [rand.normal(loc=m, scale=s) for m, s in zip(mu, sigma)]\n",
    "    return np.array(x2)"
   ]
  },
  {
   "cell_type": "code",
   "execution_count": null,
   "metadata": {},
   "outputs": [],
   "source": [
    "x1 = generate_X1()\n",
    "x2 = generate_X2()"
   ]
  },
  {
   "cell_type": "markdown",
   "metadata": {},
   "source": [
    "# Models"
   ]
  },
  {
   "cell_type": "markdown",
   "metadata": {},
   "source": [
    "## Model 1"
   ]
  },
  {
   "cell_type": "code",
   "execution_count": null,
   "metadata": {},
   "outputs": [],
   "source": [
    "with pm.Model() as model_x1_m1:\n",
    "    mu = pm.Uniform('mu', lower=0, upper=20)\n",
    "    obs = pm.Normal('obs', mu=mu, sigma=5, observed=x1)\n",
    "\n",
    "\n",
    "with pm.Model() as model_x2_m1:\n",
    "    mu = pm.Uniform('mu', lower=0, upper=20)\n",
    "    obs = pm.Normal('obs', mu=mu, sigma=5, observed=x2)"
   ]
  },
  {
   "cell_type": "markdown",
   "metadata": {},
   "source": [
    "## Model 2"
   ]
  },
  {
   "cell_type": "code",
   "execution_count": null,
   "metadata": {},
   "outputs": [],
   "source": [
    "with pm.Model() as model_x1_m2:\n",
    "    mu = pm.Uniform('mu', lower=0, upper=20)\n",
    "    sigma = pm.Uniform('sigma', lower=1, upper=10)\n",
    "    obs = pm.Normal('obs', mu=mu, sigma=sigma, observed=x1)\n",
    "    \n",
    "with pm.Model() as model_x2_m2:\n",
    "    mu = pm.Uniform('mu', lower=0, upper=20)\n",
    "    sigma = pm.Uniform('sigma', lower=1, upper=10)\n",
    "    obs = pm.Normal('obs', mu=mu, sigma=sigma, observed=x2)"
   ]
  },
  {
   "cell_type": "markdown",
   "metadata": {},
   "source": [
    "# Calculation of Bayes factors using sequential MC"
   ]
  },
  {
   "cell_type": "markdown",
   "metadata": {},
   "source": [
    "## Model 2 vs model 1 for data set `x1`"
   ]
  },
  {
   "cell_type": "code",
   "execution_count": null,
   "metadata": {},
   "outputs": [],
   "source": [
    "with model_x1_m1:\n",
    "    tr_smc_x1_m1 = pm.sample(SMC_STEPS, step=pm.SMC(), random_seed=SEED)\n",
    "    \n",
    "marg_llh_x1_m1 = model_x1_m1.marginal_likelihood\n",
    "print(\"Log10 Marginal likelihood of model_x1_m1: %0.5f\" % np.log10(marg_llh_x1_m1))"
   ]
  },
  {
   "cell_type": "code",
   "execution_count": null,
   "metadata": {},
   "outputs": [],
   "source": [
    "pm.traceplot(tr_smc_x1_m1[::10])"
   ]
  },
  {
   "cell_type": "code",
   "execution_count": null,
   "metadata": {},
   "outputs": [],
   "source": [
    "with model_x1_m2:\n",
    "    tr_smc_x1_m2 = pm.sample(SMC_STEPS, step=pm.SMC(), random_seed=SEED)\n",
    "    \n",
    "marg_llh_x1_m2 = model_x1_m2.marginal_likelihood\n",
    "print(\"Log10 Marginal likelihood of model_x1_m2: %0.5f\" % np.log10(marg_llh_x1_m2))"
   ]
  },
  {
   "cell_type": "code",
   "execution_count": null,
   "metadata": {},
   "outputs": [],
   "source": [
    "pm.traceplot(tr_smc_x1_m2[::10])"
   ]
  },
  {
   "cell_type": "code",
   "execution_count": null,
   "metadata": {},
   "outputs": [],
   "source": [
    "print(\"Log10 Bayes factor of model_x1_m2 over model_x1_m1: %0.5f\" %(np.log10(marg_llh_x1_m2) \n",
    "                                                                    - np.log10(marg_llh_x1_m1)) )"
   ]
  },
  {
   "cell_type": "markdown",
   "metadata": {},
   "source": [
    "So the Bayes factor refers the simpler model `marg_llh_x1_m1`."
   ]
  },
  {
   "cell_type": "markdown",
   "metadata": {},
   "source": [
    "## Model 2 vs model 1 for data set `x2`"
   ]
  },
  {
   "cell_type": "code",
   "execution_count": null,
   "metadata": {},
   "outputs": [],
   "source": [
    "with model_x2_m1:\n",
    "    tr_smc_x2_m1 = pm.sample(SMC_STEPS, step=pm.SMC(), random_seed=SEED)\n",
    "    \n",
    "marg_llh_x2_m1 = model_x2_m1.marginal_likelihood\n",
    "print(\"Log10 Marginal likelihood of model_x2_m1: %0.5f\" % np.log10(marg_llh_x2_m1))"
   ]
  },
  {
   "cell_type": "code",
   "execution_count": null,
   "metadata": {},
   "outputs": [],
   "source": [
    "pm.traceplot(tr_smc_x2_m1[::10])"
   ]
  },
  {
   "cell_type": "code",
   "execution_count": null,
   "metadata": {},
   "outputs": [],
   "source": [
    "with model_x2_m2:\n",
    "    tr_smc_x2_m2 = pm.sample(SMC_STEPS, step=pm.SMC(), random_seed=SEED)\n",
    "    \n",
    "marg_llh_x2_m2 = model_x2_m2.marginal_likelihood\n",
    "print(\"Log10 Marginal likelihood of model_x2_m2: %0.5f\" % np.log10(marg_llh_x2_m2))"
   ]
  },
  {
   "cell_type": "code",
   "execution_count": null,
   "metadata": {},
   "outputs": [],
   "source": [
    "pm.traceplot(tr_smc_x2_m2[::10])"
   ]
  },
  {
   "cell_type": "code",
   "execution_count": null,
   "metadata": {},
   "outputs": [],
   "source": [
    "print(\"Log10 Bayes factor of model_x2_m2 over model_x2_m1: %0.5f\" %(np.log10(marg_llh_x2_m2) \n",
    "                                                                    - np.log10(marg_llh_x2_m1)) )"
   ]
  }
 ],
 "metadata": {
  "kernelspec": {
   "display_name": "Python 3",
   "language": "python",
   "name": "python3"
  },
  "language_info": {
   "codemirror_mode": {
    "name": "ipython",
    "version": 3
   },
   "file_extension": ".py",
   "mimetype": "text/x-python",
   "name": "python",
   "nbconvert_exporter": "python",
   "pygments_lexer": "ipython3",
   "version": "3.7.3"
  }
 },
 "nbformat": 4,
 "nbformat_minor": 2
}
